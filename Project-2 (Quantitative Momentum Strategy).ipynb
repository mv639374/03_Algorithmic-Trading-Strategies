{
 "cells": [
  {
   "cell_type": "markdown",
   "metadata": {},
   "source": [
    "**Quantitative Momentum Strategy**"
   ]
  },
  {
   "cell_type": "code",
   "execution_count": null,
   "metadata": {},
   "outputs": [],
   "source": [
    "import numpy as np\n",
    "import pandas as pd\n",
    "import yfinance as yf\n",
    "import math\n",
    "from scipy import stats\n",
    "from statistics import mean\n",
    "import datetime as dt"
   ]
  },
  {
   "cell_type": "code",
   "execution_count": null,
   "metadata": {},
   "outputs": [],
   "source": [
    "tickers = pd.read_csv('sp_500_stocks.csv')\n",
    "tickers = list(tickers['Ticker'])\n",
    "tickers = tickers[:100]\n",
    "columns = ['Ticker', 'Price', '1mReturns', '3mReturns', '6mReturns', '12mReturns']\n",
    "df = pd.DataFrame(columns=columns)\n",
    "df['Ticker'] = tickers\n",
    "for i in range(len(tickers)):\n",
    "    stock = yf.Ticker(ticker=tickers[i])\n",
    "    data = stock.info.get('currentPrice')\n",
    "    df.iloc[i, 1] = data\n"
   ]
  },
  {
   "cell_type": "code",
   "execution_count": null,
   "metadata": {},
   "outputs": [],
   "source": [
    "days = [30, 90, 120, 360]\n",
    "\n",
    "for j in range(4):\n",
    "    endDate = dt.datetime.now()\n",
    "    startDate = endDate - pd.DateOffset(days[j])\n",
    "    df1 = yf.download(tickers=tickers, start=startDate, end=endDate)\n",
    "    df1 = df1['Close']\n",
    "    for i in range(len(tickers)):\n",
    "        df.iloc[i, j+2] = (df1[tickers[i]][-1] - df1[tickers[i]][0]) / (df1[tickers[i]][0])\n",
    "\n",
    "columns = ['1mPercentile', '3mPercentile', '6mPercentile', '12mPercentile', 'hqm_score', 'Number of Shares to Buy']\n",
    "df1 = pd.DataFrame(columns=columns)\n",
    "df = pd.concat([df, df1], axis=1)\n",
    "for j in range(4):\n",
    "    for i in range(len(tickers)):\n",
    "        df.iloc[i,j+6] = stats.percentileofscore(df.iloc[:,j+2], df.iloc[i,j+2]) / 100"
   ]
  },
  {
   "cell_type": "code",
   "execution_count": null,
   "metadata": {},
   "outputs": [],
   "source": [
    "for i in range(len(tickers)):\n",
    "    df.iloc[i, -2]  = np.sum(df.iloc[i,6:10]) / 4\n",
    "df = df.sort_values(by='hqm_score', ascending=False, ignore_index=True)\n",
    "df = df.iloc[:50, :]\n",
    "\n",
    "portfolio_value = 10000000   # float(input(\"Enter your portfolio value\"))\n",
    "equal_weight = float(portfolio_value / len(tickers))\n",
    "for i in range(50):\n",
    "    df.iloc[i, -1] = math.floor(equal_weight/df['Price'][i])\n",
    "\n",
    "df"
   ]
  }
 ],
 "metadata": {
  "kernelspec": {
   "display_name": "Python 3",
   "language": "python",
   "name": "python3"
  },
  "language_info": {
   "codemirror_mode": {
    "name": "ipython",
    "version": 3
   },
   "file_extension": ".py",
   "mimetype": "text/x-python",
   "name": "python",
   "nbconvert_exporter": "python",
   "pygments_lexer": "ipython3",
   "version": "3.13.2"
  }
 },
 "nbformat": 4,
 "nbformat_minor": 2
}
