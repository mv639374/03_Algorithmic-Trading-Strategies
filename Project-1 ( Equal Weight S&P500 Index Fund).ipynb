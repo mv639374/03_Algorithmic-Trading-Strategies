{
 "cells": [
  {
   "cell_type": "markdown",
   "metadata": {},
   "source": [
    "***Equal Weight S&P500 Index Fund***"
   ]
  },
  {
   "cell_type": "code",
   "execution_count": null,
   "metadata": {},
   "outputs": [],
   "source": [
    "import numpy as np\n",
    "import pandas as pd\n",
    "import yfinance as yf\n",
    "import math\n",
    "import datetime as dt"
   ]
  },
  {
   "cell_type": "code",
   "execution_count": null,
   "metadata": {},
   "outputs": [],
   "source": [
    "tickers = pd.read_csv('sp_500_stocks.csv')\n",
    "tickers = list(tickers['Ticker'])\n",
    "columns = ['Ticker', 'Price', '#Shares to Buy']\n",
    "df = pd.DataFrame(columns=columns)\n",
    "df['Ticker'] = tickers\n",
    "for i in range(len(tickers)):\n",
    "    stock = yf.Ticker(tickers[i])\n",
    "    price = stock.info.get('currentPrice')\n",
    "    df.iloc[i, 1] = price\n",
    "\n",
    "df"
   ]
  },
  {
   "cell_type": "code",
   "execution_count": null,
   "metadata": {},
   "outputs": [],
   "source": [
    "portfolio_input = float(input(\"Enter the amount of your portfolio\"))\n",
    "equal_weight = math.floor(portfolio_input / len(df))\n",
    "for i in range(len(tickers)):\n",
    "    df.iloc[i,2] = equal_weight / df['Price'][i]\n",
    "df"
   ]
  }
 ],
 "metadata": {
  "kernelspec": {
   "display_name": "Python 3",
   "language": "python",
   "name": "python3"
  },
  "language_info": {
   "codemirror_mode": {
    "name": "ipython",
    "version": 3
   },
   "file_extension": ".py",
   "mimetype": "text/x-python",
   "name": "python",
   "nbconvert_exporter": "python",
   "pygments_lexer": "ipython3",
   "version": "3.13.2"
  }
 },
 "nbformat": 4,
 "nbformat_minor": 2
}
