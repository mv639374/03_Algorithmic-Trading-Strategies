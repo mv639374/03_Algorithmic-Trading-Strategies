{
 "cells": [
  {
   "cell_type": "markdown",
   "metadata": {},
   "source": [
    "**Quantitative Value Strategy**"
   ]
  },
  {
   "cell_type": "code",
   "execution_count": 217,
   "metadata": {},
   "outputs": [],
   "source": [
    "import numpy as np\n",
    "import pandas as pd\n",
    "import yfinance as yf\n",
    "import math\n",
    "from scipy import stats\n",
    "from statistics import mean"
   ]
  },
  {
   "cell_type": "code",
   "execution_count": null,
   "metadata": {},
   "outputs": [],
   "source": [
    "stocks = pd.read_csv('sp_500_stocks_.csv')\n",
    "stocks"
   ]
  },
  {
   "cell_type": "code",
   "execution_count": 219,
   "metadata": {},
   "outputs": [],
   "source": [
    "my_columns = [\n",
    "    'Ticker', \n",
    "    'Price', \n",
    "    'Number of Shares to Buy', \n",
    "    'PE Ratio', \n",
    "    'PE Ratio Percentile', \n",
    "    'PB Ratio', \n",
    "    'PB Ratio Percentile', \n",
    "    'PS Ratio', \n",
    "    'PS Ratio Percentile', \n",
    "    'EV/EBITDA', \n",
    "    'EV/EBITDA Percentile', \n",
    "    'EV/GP', \n",
    "    'EV/GP Percentile', \n",
    "    'RV Score'] \n",
    "final_dataframe = pd.DataFrame()\n",
    "for ticker in stocks['Ticker']:\n",
    "    stock = yf.Ticker(ticker)\n",
    "    df = {\n",
    "        'Ticker':ticker, \n",
    "        'Price': stock.info.get('currentPrice'), \n",
    "        'PE':stock.info.get('trailingPE'), \n",
    "        'PB':stock.info.get('priceToBook'), \n",
    "        'PS':stock.info.get('priceToSalesTrailing12Months'),\n",
    "        'EV':stock.info.get('enterpriseValue'),\n",
    "        'EBITDA':stock.info.get('ebitda'),\n",
    "        'GP':stock.info.get('grossProfits') \n",
    "        }\n",
    "    ticker_series = pd.Series(df['Ticker'])\n",
    "    price_series = pd.Series(df['Price'])\n",
    "    share_series = pd.Series(np.NaN)\n",
    "    pe = pd.Series(df['PE'])\n",
    "    pepercentile = pd.Series(np.NaN)\n",
    "    pb = pd.Series(df['PB'])\n",
    "    pbpercentile = pd.Series(np.NaN)\n",
    "    ps = pd.Series(df['PS'])\n",
    "    pspercentile = pd.Series(np.NaN)\n",
    "    if df['EV'] is not None and df['EBITDA'] is not None:\n",
    "        evEBITDA = pd.Series(df['EV'] / df['EBITDA'])\n",
    "    else:\n",
    "        evEBITDA=pd.Series(np.NaN)\n",
    "    evEBITDApercentile = pd.Series(np.NaN)\n",
    "    if df['EV'] is not None and df['GP'] is not None:\n",
    "        evGP = pd.Series(df['EV'] / df['GP'])\n",
    "    else:\n",
    "        evGP = pd.Series(np.NaN)\n",
    "    evGPpercentile = pd.Series(np.NaN)\n",
    "    rv_score = pd.Series(np.NaN)\n",
    "    data = pd.concat(\n",
    "        [ticker_series, \n",
    "         price_series, \n",
    "         share_series, \n",
    "         pe, \n",
    "         pepercentile, \n",
    "         pb, \n",
    "         pbpercentile, \n",
    "         ps, \n",
    "         pspercentile, \n",
    "         evEBITDA, \n",
    "         evEBITDApercentile, \n",
    "         evGP, \n",
    "         evGPpercentile, \n",
    "         rv_score\n",
    "         ], axis=1, ignore_index=True)\n",
    "    data.columns = my_columns\n",
    "    final_dataframe = pd.concat([final_dataframe, data], ignore_index=True)\n",
    "    \n",
    "    "
   ]
  },
  {
   "cell_type": "code",
   "execution_count": 220,
   "metadata": {},
   "outputs": [],
   "source": [
    "metrics = ['PE Ratio', 'PB Ratio', 'PS Ratio', 'EV/EBITDA', 'EV/GP']\n",
    "for column in metrics:\n",
    "    final_dataframe[column] = pd.to_numeric(final_dataframe[column], errors='coerce')\n",
    "    final_dataframe[column].fillna(final_dataframe[column].mean(), inplace=True)"
   ]
  },
  {
   "cell_type": "code",
   "execution_count": null,
   "metadata": {},
   "outputs": [],
   "source": [
    "for row in final_dataframe.index:\n",
    "    percentiles = []\n",
    "    for metric in metrics:\n",
    "        final_dataframe.loc[row, f'{metric} Percentile'] = stats.percentileofscore(final_dataframe[f'{metric}'], final_dataframe.loc[row, f'{metric}']) / 100\n",
    "        percentiles.append(final_dataframe.loc[row, f'{metric} Percentile'])\n",
    "\n",
    "    final_dataframe.loc[row, 'RV Score'] = mean(percentiles)\n",
    "\n",
    "final_dataframe = final_dataframe.sort_values(by='RV Score', ascending=False, ignore_index=True)\n",
    "final_dataframe = final_dataframe[:51]\n",
    "final_dataframe\n"
   ]
  },
  {
   "cell_type": "code",
   "execution_count": null,
   "metadata": {},
   "outputs": [],
   "source": [
    "portfolio_size = 10000000\n",
    "position_size = float(portfolio_size) / len(final_dataframe.index)\n",
    "for i in final_dataframe.index:\n",
    "    final_dataframe.loc[i, 'Number of Shares to Buy'] = math.floor(position_size / final_dataframe['Price'][i])\n",
    "\n",
    "final_dataframe"
   ]
  }
 ],
 "metadata": {
  "language_info": {
   "name": "python"
  }
 },
 "nbformat": 4,
 "nbformat_minor": 2
}
